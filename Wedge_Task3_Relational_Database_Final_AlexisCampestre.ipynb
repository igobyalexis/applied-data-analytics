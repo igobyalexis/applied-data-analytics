{
 "cells": [
  {
   "cell_type": "markdown",
   "metadata": {},
   "source": [
    "WOW. This was one hell of a project. I felt like I learned a lot but I have much much more to learn.\n",
    "Below is the code I used to fulfill the deliverables for Task 3 of the Fall 2019 Wedge Project, provided to us courtesy of Prof. John Chandler in the Applied Data Analytics course. You will find my "
   ]
  },
  {
   "cell_type": "code",
   "execution_count": null,
   "metadata": {},
   "outputs": [],
   "source": [
    "#Import stuff I may or may not need!\n",
    "\n",
    "import datetime\n",
    "import random\n",
    "import os\n",
    "import csv\n",
    "import sqlite3\n",
    "\n",
    "#imports for GBQ\n",
    "from google.cloud import bigquery\n",
    "from google.oauth2 import service_account"
   ]
  },
  {
   "cell_type": "code",
   "execution_count": null,
   "metadata": {},
   "outputs": [],
   "source": [
    "#Code to connect to GBQ instance \n",
    "\n",
    "service_path = \"C:\\\\Users\\\\Alexi\\\\Documents\\\\UofM\\\\Fall2019\\\\ADA\\\\applied-data-analytics\\\\wedge-investigation\\\\\"\n",
    "service_file = 'WedgeProject-6e342901e4a7.json'\n",
    "gbq_proj_id = 'wedgeproject' \n",
    "gbq_dataset_id = 'WedgeData' \n",
    "\n",
    "\n",
    "# Pass in credentials to GBQ and establish connection with instance\n",
    "credentials = service_account.Credentials.from_service_account_file(\"C:\\\\Users\\\\Alexi\\\\Documents\\\\UofM\\\\Fall2019\\\\ADA\\\\applied-data-analytics\\\\wedge-investigation\\\\WedgeProject-6e342901e4a7.json\")\n",
    "client = bigquery.Client(credentials = credentials, project=gbq_proj_id)"
   ]
  },
  {
   "cell_type": "markdown",
   "metadata": {},
   "source": [
    "# TABLE 1"
   ]
  },
  {
   "cell_type": "code",
   "execution_count": null,
   "metadata": {},
   "outputs": [],
   "source": [
    "#Here I connect to my local file, exported from GBQ, because I couldn't write\n",
    "#a proper SQL statement in Python\n",
    "\n",
    "input_file = \"wedgeproject_3.1table.csv\"\n",
    "\n",
    "#write to file\n",
    "with open(input_file,'r',encoding=\"Latin-1\") as ifile :\n",
    "    for idx, line in enumerate(ifile.readlines()) :\n",
    "        print(line.strip().split(\",\"))\n",
    "        #if idx > 5 :\n",
    "            #break"
   ]
  },
  {
   "cell_type": "code",
   "execution_count": null,
   "metadata": {},
   "outputs": [],
   "source": [
    "#connect to SQLite and cursor\n",
    "db = sqlite3.connect(\"wedgeproject_part3.db\")\n",
    "cur = db.cursor()"
   ]
  },
  {
   "cell_type": "code",
   "execution_count": null,
   "metadata": {},
   "outputs": [],
   "source": [
    "#Create my table1 in SQLite \n",
    "\n",
    "cur.execute('''DROP TABLE IF EXISTS datetimebyhour''')\n",
    "cur.execute('''CREATE TABLE datetimebyhour (\n",
    "    dt TIMESTAMP,\n",
    "    hour INTEGER,\n",
    "    total_spend REAL,\n",
    "    transactions INTEGER,\n",
    "    total_items INTEGER)\n",
    "''')\n",
    "\n",
    "\n",
    "# fill the table\n",
    "with open(input_file,'r', encoding=\"Latin-1\") as ifile :\n",
    "    next(ifile)\n",
    "    for idx, line in enumerate(ifile.readlines()) :\n",
    "        line = line.strip().split(\",\")\n",
    "        cur.execute('''\n",
    "            INSERT INTO datetimebyhour (dt,hour,total_spend,\n",
    "              transactions,total_items)\n",
    "            VALUES (?,?,?,?,?)''', line)\n",
    "\n",
    "        #if idx > 100 :\n",
    "        #    break\n",
    "        #feel free to remove these and comment out execution code if I want to see what's up\n",
    "        #in the table without opening my SQLiteDB Browser.\n",
    "\n",
    "db.commit()\n",
    "db.close()"
   ]
  },
  {
   "cell_type": "markdown",
   "metadata": {},
   "source": [
    "# TABLE 2"
   ]
  },
  {
   "cell_type": "code",
   "execution_count": null,
   "metadata": {},
   "outputs": [],
   "source": [
    "#Here I connect to my local file, exported from GBQ, because I couldn't write\n",
    "#a proper SQL statement in Python\n",
    "\n",
    "input_file = \"wedgeproject_3.2table.csv\"\n",
    "\n",
    "\n",
    "with open(input_file,'r',encoding=\"Latin-1\") as ifile :\n",
    "    for idx, line in enumerate(ifile.readlines()) :\n",
    "        print(line.strip().split(\",\"))\n",
    "        if idx > 5 :\n",
    "            break\n",
    "\n",
    "\n",
    "db = sqlite3.connect(\"wedgeproject_part3.db\")\n",
    "cur = db.cursor()"
   ]
  },
  {
   "cell_type": "code",
   "execution_count": null,
   "metadata": {},
   "outputs": [],
   "source": [
    "#Table 2 Query - Query in GBQ Console and exported. View saved queries on 10.24.2019 if curious.\n",
    "#Create my table in SQLite \n",
    "\n",
    "cur.execute('''DROP TABLE IF EXISTS cardno_year_month''')\n",
    "cur.execute('''CREATE TABLE cardno_year_month (\n",
    "    card_no INTEGER,\n",
    "    year INTEGER,\n",
    "    month INTEGER,\n",
    "    total_spend REAL,\n",
    "    transactions INTEGER,\n",
    "    total_items INTEGER)\n",
    "''')\n",
    "\n",
    "\n",
    "#and fill 'er on up'\n",
    "with open(input_file,'r', encoding=\"Latin-1\") as ifile :\n",
    "    next(ifile)\n",
    "    for idx, line in enumerate(ifile.readlines()) :\n",
    "        line = line.strip().split(\",\")\n",
    "        cur.execute('''\n",
    "            INSERT INTO cardno_year_month (card_no,year,month,\n",
    "              total_spend,transactions,total_items)\n",
    "            VALUES (?,?,?,?,?,?)''', line)\n",
    "\n",
    "\n",
    "db.commit()\n",
    "db.close()"
   ]
  },
  {
   "cell_type": "markdown",
   "metadata": {},
   "source": [
    "# TABLE 3"
   ]
  },
  {
   "cell_type": "code",
   "execution_count": null,
   "metadata": {},
   "outputs": [],
   "source": [
    "#Table 3 Query\n",
    "query3 = '''SELECT\n",
    " EXTRACT(year\n",
    " FROM\n",
    "   datetime) AS year,\n",
    " EXTRACT(month\n",
    " FROM\n",
    "   datetime) AS month,\n",
    " upc,\n",
    " SUM(total) AS spend,\n",
    " COUNT(DISTINCT(CONCAT(CAST(EXTRACT(year\n",
    "         FROM\n",
    "           datetime) AS string), CAST(EXTRACT(month\n",
    "         FROM\n",
    "           datetime) AS string), CAST(EXTRACT(day\n",
    "         FROM\n",
    "           datetime) AS string), CAST(register_no AS string), \n",
    "                                   CAST(emp_no AS string), \n",
    "                                   CAST(trans_no AS string)))) AS Transactions,\n",
    " SUM(CASE\n",
    "     WHEN (trans_status = 'V' OR trans_status = 'R') THEN -1\n",
    "   ELSE\n",
    "   1\n",
    " END\n",
    "   ) AS Items,\n",
    " description,\n",
    " dept_name,\n",
    " trans.department\n",
    "FROM\n",
    " `wedgeproject.WedgeData.transArchive_*` AS trans\n",
    "JOIN\n",
    " `wedgeproject.WedgeData.wedge_dept_name_dept_no` dl\n",
    "ON\n",
    " trans.department = dl.department\n",
    "WHERE\n",
    " trans.department != 0\n",
    " AND trans.department != 15\n",
    " AND trans_status != 'M'\n",
    " AND trans_status != 'C'\n",
    " AND trans_status != 'J'\n",
    " AND (trans_status IS NULL\n",
    "   OR trans_status = ' '\n",
    "   OR trans_status = 'V'\n",
    "   OR trans_status = 'R')\n",
    "GROUP BY\n",
    " upc,\n",
    " description,\n",
    " dept_name,\n",
    " trans.department,\n",
    " year,\n",
    " month\n",
    "ORDER BY\n",
    " year,\n",
    " month'''"
   ]
  },
  {
   "cell_type": "code",
   "execution_count": null,
   "metadata": {},
   "outputs": [],
   "source": [
    "query_job = client.query(\n",
    "    query3,\n",
    "    location=\"US\",\n",
    ")\n",
    "#fill table with data\n",
    "with open(\"wedgeproject_3.3\", 'w') as ofile :\n",
    "    for idx, row in enumerate (query_job) :\n",
    "        ofile.write(\",\".join([str(element) for element in row]) +\"\\n\")"
   ]
  },
  {
   "cell_type": "code",
   "execution_count": null,
   "metadata": {},
   "outputs": [],
   "source": [
    "#Here I connect to my local file, exported from GBQ, because I couldn't write\n",
    "#a proper SQL statement in Python\n",
    "\n",
    "input_file = \"wedgeproject_3.3table.csv\"\n",
    "\n",
    "#write to file\n",
    "with open(input_file,'r',encoding=\"Latin-1\") as ifile :\n",
    "    for idx, line in enumerate(ifile.readlines()) :\n",
    "        print(line.strip().split(\",\"))\n",
    "        #if idx > 10 :\n",
    "            #break\n",
    "\n",
    "\n",
    "db = sqlite3.connect(\"wedgeproject_part3.db\")\n",
    "cur = db.cursor()"
   ]
  },
  {
   "cell_type": "code",
   "execution_count": null,
   "metadata": {},
   "outputs": [],
   "source": [
    "#Create my table in SQLite \n",
    "\n",
    "cur.execute('''DROP TABLE IF EXISTS table3''')\n",
    "cur.execute('''CREATE TABLE table3 (\n",
    "    year INTEGER,\n",
    "    month INTEGER,\n",
    "    upc INTEGER,\n",
    "    spend REAL,\n",
    "    Transactions INTEGER,\n",
    "    Items INTEGER,\n",
    "    description TEXT,\n",
    "    dept_name TEXT,\n",
    "    department INTEGER)\n",
    "''')\n",
    "\n"
   ]
  },
  {
   "cell_type": "code",
   "execution_count": null,
   "metadata": {},
   "outputs": [],
   "source": [
    "# fill the table\n",
    "with open(input_file,'r', encoding=\"Latin-1\") as ifile :\n",
    "    next(ifile)\n",
    "    for idx, line in enumerate(ifile.readlines()) :\n",
    "        line = line.strip().split(\",\")\n",
    "        cur.execute('''\n",
    "            INSERT INTO table3 (upc,year,month,spend,transactions,items,description,dept_name,department)\n",
    "            VALUES (?,?,?,?,?,?,?,?,?)''', line)\n",
    "\n",
    "        #if idx > 100 :\n",
    "        #    break\n",
    "\n",
    "db.commit()\n",
    "db.close()"
   ]
  }
 ],
 "metadata": {
  "kernelspec": {
   "display_name": "Python 3",
   "language": "python",
   "name": "python3"
  },
  "language_info": {
   "codemirror_mode": {
    "name": "ipython",
    "version": 3
   },
   "file_extension": ".py",
   "mimetype": "text/x-python",
   "name": "python",
   "nbconvert_exporter": "python",
   "pygments_lexer": "ipython3",
   "version": "3.7.3"
  }
 },
 "nbformat": 4,
 "nbformat_minor": 2
}
